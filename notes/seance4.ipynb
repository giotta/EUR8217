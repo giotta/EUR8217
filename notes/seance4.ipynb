{
 "cells": [
  {
   "cell_type": "markdown",
   "metadata": {},
   "source": [
    "# Séance 4 - Analyse bivariée II"
   ]
  },
  {
   "cell_type": "markdown",
   "metadata": {},
   "source": [
    "## T-Test\n",
    "\n",
    "> `scipy.stats.ttest_ind`\n",
    "\n",
    "* idée vérifier si la différence des moyennes est *(statistiquement)* significative\n",
    "* **2 groupes**\n",
    "* **variable quantitative doit être distribuée normalement**\n",
    "    * si transformation donne rien, prendre variable d'origine... T-Test peut demeurer pertinent. D'autres approches pourraient venir confirmer/infirmer T-test\n",
    "\n",
    "Démarche\n",
    "1. Différence des moyennes\n",
    "2. Égalité des variances? \n",
    "    * **Test (Folded) F** test d'égalité des variances\n",
    "        * variances égales si P >= 0.05\n",
    "        * variances pas égales si P < 0.05\n",
    "    * si P < 0.05 : méthode Satterthwaite\n",
    "    * si P >= 0.05 : méthode Pooled\n",
    "3. Diff moyenne significative?\n",
    "    * **Méthode Satterthwaite**\n",
    "    * **Méthode Pooled**\n",
    "    * sorties :\n",
    "        * t :\n",
    "            * t en soi s'interprète avec table de F (observé vs théorique), comme Anova...   \n",
    "        *plus valeur absolue de t est élevé, plus c'est significatif*\n",
    "        * P :\n",
    "            * toujours même règle d'interprétation de P\n",
    "            * ex: P < 0.0001 = significatif\n",
    "        \n",
    "### Interprétation\n",
    "\n",
    "Voir exemple."
   ]
  },
  {
   "cell_type": "markdown",
   "metadata": {},
   "source": [
    "## ANOVA\n",
    "\n",
    "> `statsmodel.stats.anova`\n",
    "\n",
    "* idée vérifier si la différence des moyennes est *(statistiquement)* significative (si différentes et que celle du groupe témoin est plus faible)\n",
    "* **n groupes**\n",
    "* **variable quant doit être distribuée normalement**\n",
    "\n",
    "### Variances\n",
    "\n",
    "* variance totale : VT\n",
    "* variance intragroupe *(non expliquée)* : VNE\n",
    "* vairance intergroupe *(expliquée)* : VE\n",
    "* vérification\n",
    "    * **VT = VNE + VE**\n",
    "\n",
    "Une ANOVA qui fonctionne : \n",
    "* ressemblance dans un groupe\n",
    "* dissemblance entre groupes\n",
    "\n",
    "### Coefficient de détermination\n",
    "\n",
    "* $n^2$\n",
    "\n",
    "### Interprétation\n",
    "\n",
    "Résultats de l'ANOVA \n",
    "* $R²$\n",
    "* P\n",
    "\n",
    "### Test de F\n",
    "\n",
    "Table de Fisher\n",
    "\n",
    "* 3 params\n",
    "    * degré de liberté numérateur\n",
    "    * degré de liberté dénominateur\n",
    "    * seuil de signification\n",
    "\n",
    "### Test de Turkey\n",
    "\n",
    "Test différences des moyennes 2 à 2\n",
    "\n",
    "### Boxplot\n",
    "\n",
    "Représente ANOVA\n",
    "\n",
    "* ressemblance intragroupe si boîte est petite, resserée\n",
    "* dissemblance intergroupes si boîtes sont dispersées, pas à même hauteur (peu d'overlap)"
   ]
  }
 ],
 "metadata": {
  "kernelspec": {
   "display_name": "Python 3",
   "language": "python",
   "name": "python3"
  },
  "language_info": {
   "codemirror_mode": {
    "name": "ipython",
    "version": 3
   },
   "file_extension": ".py",
   "mimetype": "text/x-python",
   "name": "python",
   "nbconvert_exporter": "python",
   "pygments_lexer": "ipython3",
   "version": "3.5.1"
  }
 },
 "nbformat": 4,
 "nbformat_minor": 0
}
