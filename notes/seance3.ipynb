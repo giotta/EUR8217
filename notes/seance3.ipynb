{
 "cells": [
  {
   "cell_type": "markdown",
   "metadata": {},
   "source": [
    "# Séance 3 - Analyse bivariée I"
   ]
  },
  {
   "cell_type": "markdown",
   "metadata": {},
   "source": [
    "---\n",
    "\n",
    "## Relation 2 variables quantitatives"
   ]
  },
  {
   "cell_type": "markdown",
   "metadata": {},
   "source": [
    "### Covariance"
   ]
  },
  {
   "cell_type": "markdown",
   "metadata": {},
   "source": [
    "### Coefficient de corrélation\n",
    "\n",
    "#### Pearson\n",
    "\n",
    "* transformer variable : normaliser\n",
    "* seuil où on retient dépend du domaine, en général : 5%\n",
    "    * P > 0,05\n",
    "    \n",
    "#### Spearman\n",
    "\n",
    "* pas de transformation de variable?\n",
    "* quand variable très anormalement distribuées"
   ]
  },
  {
   "cell_type": "markdown",
   "metadata": {},
   "source": [
    "### Analyse de régression (simple)\n",
    "\n",
    "Ici simple, autres cours : multiples\n",
    "\n",
    "#### F de Fisher\n",
    "\n",
    "#### R carré"
   ]
  },
  {
   "cell_type": "markdown",
   "metadata": {},
   "source": [
    "---\n",
    "\n",
    "## Relation 2 variables qualitatives"
   ]
  },
  {
   "cell_type": "markdown",
   "metadata": {},
   "source": [
    "### Tableau de contingence\n",
    "\n",
    "* fréquences observées\n",
    "* marges\n",
    "* pourcentages"
   ]
  },
  {
   "cell_type": "markdown",
   "metadata": {},
   "source": [
    "### Khi2\n",
    "\n",
    "http://www.science-emergence.com/TestDuChi2/\n",
    "\n",
    "* scipy :\n",
    "    * `scipy.stats.chi2`\n",
    "    * `scipy.stats.chi2_contingency`\n",
    "    * `scipy.stats.chisqprob`\n",
    "        * `scipy.stats.chisqprob() == 1 - scipy.stats.chi2.cdf()`\n",
    "    * `scipy.stats.chisquare`\n",
    "\n",
    "* fréquences théoriques\n",
    "* déviation\n",
    "* contribution au $khi^2$\n",
    "* table de khi2\n",
    "    * `scipy.stats.chi2_contingency`\n",
    "* degrés de liberté\n",
    "* seuil de signification"
   ]
  }
 ],
 "metadata": {
  "kernelspec": {
   "display_name": "Python 3",
   "language": "python",
   "name": "python3"
  },
  "language_info": {
   "codemirror_mode": {
    "name": "ipython",
    "version": 3
   },
   "file_extension": ".py",
   "mimetype": "text/x-python",
   "name": "python",
   "nbconvert_exporter": "python",
   "pygments_lexer": "ipython3",
   "version": "3.5.1"
  }
 },
 "nbformat": 4,
 "nbformat_minor": 0
}
