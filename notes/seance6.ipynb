{
 "cells": [
  {
   "cell_type": "markdown",
   "metadata": {},
   "source": [
    "# Séance 6 - Régression multiples"
   ]
  },
  {
   "cell_type": "markdown",
   "metadata": {},
   "source": [
    "Système d'équations simultanées\n",
    "* 2 var dép expliquées avec même var (coeff diff)\n",
    "    * ex.: modèle pour consommation de légume, consommation de fruits\n",
    "    * ex.: ilot, à côté de ilôt\n",
    "* risque d'avoir une relation linéaire positive entre résidus\n",
    "* Système d'équations simultanées = approche = pour estimer les 2 en même temps"
   ]
  },
  {
   "cell_type": "markdown",
   "metadata": {},
   "source": [
    "## Introduction de valeurs indépendantes particulières\n",
    "\n",
    "### Variable dichotomique (muette)\n",
    "\n",
    "### Variable polytomique (catégorielle)\n",
    "\n",
    "* noter dans tableau \"Réf.\" pour identifier catégorie de référence\n",
    "\n",
    "### Variable d'interaction\n",
    "\n",
    "* quand des variables combinées ensemble influencent davantage y\n",
    "    * ex\n",
    "        * personne âgée influence pas trop\n",
    "        * personne âgée combiné à distance influence plus\n",
    "    * ex\n",
    "        * personne seule = lié à faible revenu, globalement pour SR\n",
    "        * sauf si on combine avec distance au centre-ville, on constate que personne seule n'est pas relié à fabile revenu pour banlieue\n",
    "    * ex Barcelone\n",
    "    * ex Québec http://www.erudit.org/revue/cgq/2007/v51/n144/017625ar.html\n",
    "        * tableau 2, section Interactions + conclusion avant section \"Modélisation du vote adéquiste\"\n",
    "        * vérifier signification P, vérifier coefficient"
   ]
  }
 ],
 "metadata": {
  "kernelspec": {
   "display_name": "Python 3",
   "language": "python",
   "name": "python3"
  },
  "language_info": {
   "codemirror_mode": {
    "name": "ipython",
    "version": 3
   },
   "file_extension": ".py",
   "mimetype": "text/x-python",
   "name": "python",
   "nbconvert_exporter": "python",
   "pygments_lexer": "ipython3",
   "version": "3.5.1"
  }
 },
 "nbformat": 4,
 "nbformat_minor": 0
}
