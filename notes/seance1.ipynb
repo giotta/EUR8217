{
 "cells": [
  {
   "cell_type": "markdown",
   "metadata": {
    "collapsed": false
   },
   "source": [
    "# Séance 1 - Approche quantitative en études urbaines"
   ]
  },
  {
   "cell_type": "markdown",
   "metadata": {},
   "source": [
    "## Variable\n",
    "\n",
    "* *Dictionnaire des données*\n",
    "    * pour interprétation (notamment valeurs possibles)\n",
    "* Types\n",
    "    * Qualitative\n",
    "        * Nominale\n",
    "        * Ordinale\n",
    "    * Quantitative\n",
    "        * Intervalle\n",
    "        * Proportionnelle\n",
    "* Échelle de Lickert : 5 niveaux\n",
    "    * Variante d'échelle de notation : 4 niveaux ou 10"
   ]
  },
  {
   "cell_type": "markdown",
   "metadata": {},
   "source": [
    "## Stats descriptive vs inférentielle\n",
    "\n",
    "Comprendre les 2 et leurs différences c'est comprendre les stats.\n",
    "\n",
    "### Descriptive\n",
    "\n",
    "* séances 1, 2, 3, 4\n",
    "* séances 11, 12\n",
    "\n",
    "### Inférentielle\n",
    "\n",
    "* séances 5, 6, 7\n",
    "* séances 9, 10\n",
    "* séances 13, 14?\n"
   ]
  },
  {
   "cell_type": "markdown",
   "metadata": {},
   "source": [
    "## Sources de données\n",
    "\n",
    "### Accès et utilisation\n",
    "    \n",
    "* accès libre\n",
    "* licence : conditions d'utilisation\n",
    "\n",
    "### Sciences sociales\n",
    "\n",
    "* CIQSS\n",
    "    * enquêtes exhaustives\n",
    "    * micro données recensement (par personnes)\n",
    "* Equinox\n",
    "    * &nexists;\n",
    "* Statistique Canada\n",
    "\n",
    "### Études urbaines\n",
    "\n",
    "#### Découpage géo\n",
    "\n",
    "* *voir schéma*\n",
    "* *voir défitinions sur statcan*\n",
    "* chiffres statcan arrondis à 0, 5 ou 10, à tous niveaux\n",
    "    * ex.: SR, AD\n",
    "* découpage bouge dans le temps\n",
    "    * fusion/défusion\n",
    "    * définition permet changement\n",
    "        * 50% des navetteurs (domicile/travail) vont vers noyau\n",
    "\n",
    "* RMR : Rég métro peut couvrir plusieurs provinces (ex.: Ottawa/Gatineau)\n",
    "* AR : utile intera Montréal\n",
    "* Division de recensement au QC = MRC\n",
    "* SDR : Municipalités\n",
    "* *SR : 5000 habitants*\n",
    "* AD : 500 habitants\n",
    "* Ilot : composition des ménages et population totale"
   ]
  },
  {
   "cell_type": "markdown",
   "metadata": {},
   "source": [
    "## Logiciels de stats\n",
    "\n",
    "### SAS\n",
    "\n",
    "* grand volume de données chargé mémoire (limite = disque dur)\n",
    "\n",
    "### R\n",
    "\n",
    "* a les nouvelles méthodes statistiques\n",
    "* même chose faisable dans plusieurs packages"
   ]
  }
 ],
 "metadata": {
  "kernelspec": {
   "display_name": "Python 3",
   "language": "python",
   "name": "python3"
  },
  "language_info": {
   "codemirror_mode": {
    "name": "ipython",
    "version": 3
   },
   "file_extension": ".py",
   "mimetype": "text/x-python",
   "name": "python",
   "nbconvert_exporter": "python",
   "pygments_lexer": "ipython3",
   "version": "3.5.1"
  }
 },
 "nbformat": 4,
 "nbformat_minor": 0
}
