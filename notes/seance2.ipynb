{
 "cells": [
  {
   "cell_type": "markdown",
   "metadata": {},
   "source": [
    "# Séance 2 - Analyse univariée"
   ]
  },
  {
   "cell_type": "markdown",
   "metadata": {},
   "source": [
    "## Tendance centrale\n",
    "\n",
    "* mode\n",
    "* moyenne\n",
    "* médiane\n",
    "\n",
    "## Position\n",
    "\n",
    "* quantiles\n",
    "\n",
    "## Dispersion\n",
    "\n",
    "* intervalle interquartile\n",
    "* variance\n",
    "* écart-type\n",
    "* coefficient de variation\n",
    "    * standardise l'écart type (on peut comparer la variance de variable indépendamment des valeurs)\n",
    "\n",
    "## Forme\n",
    "\n",
    "* distribution normale\n",
    "    * skewness=0, kurtosis=0\n",
    "    * approche pour tester si distribution normale\n",
    "        * histogramme\n",
    "        * check skewness + kurtosis\n",
    "        * test Kolmogorov-Smirnov (K-Smirnov)\n",
    "    * on peut normaliser en *transformant la variable* pour appliquer des méthodes qui exigent distribution normale\n",
    "* coeff dissymétrie : skewness\n",
    "    * asymétrie négative (à droite)\n",
    "    * asymétrie positive (à gauche)\n",
    "* coeff aplatissement : kurtosis\n",
    "* test K-Smirnov\n",
    "    * donne 2 outputs : K-S, P\n",
    "    * P est un % (d'erreur) disant si la valeur K-S est significative ou pas\n",
    "    * P parfois exprimer avec des \\* ou .\n",
    "        * \\*\\*\\* P = 0,001 = 0,1%\n",
    "        * \\*\\* P = 0,01 = 1%\n",
    "        * \\* P = 0,05 = 5%\n",
    "        * . = P = 0,1 = 10%"
   ]
  },
  {
   "cell_type": "markdown",
   "metadata": {},
   "source": [
    "## Transformation de variable\n",
    "\n",
    "### Variables anormalement distribuées\n",
    "\n",
    "* normaliser, remède à\n",
    "    * outliers\n",
    "    * probl normalité\n",
    "    * probl linéarité\n",
    "    * probl homoscedasticity\n",
    "* vérifier normalité après transformation\n",
    "* méthode pour normaliser\n",
    "    * log ou sqrt\n",
    "    * 2 = asymétrie modérée\n",
    "    * 5 = asymétrie importante\n",
    "\n",
    "### Variables centrées et réduites (*z-score*)\n",
    "\n",
    "* centrage\n",
    "* réduction"
   ]
  }
 ],
 "metadata": {
  "kernelspec": {
   "display_name": "Python 3",
   "language": "python",
   "name": "python3"
  },
  "language_info": {
   "codemirror_mode": {
    "name": "ipython",
    "version": 3
   },
   "file_extension": ".py",
   "mimetype": "text/x-python",
   "name": "python",
   "nbconvert_exporter": "python",
   "pygments_lexer": "ipython3",
   "version": "3.5.1"
  }
 },
 "nbformat": 4,
 "nbformat_minor": 0
}
