{
 "cells": [
  {
   "cell_type": "markdown",
   "metadata": {},
   "source": [
    "# Labo 2 R"
   ]
  },
  {
   "cell_type": "markdown",
   "metadata": {},
   "source": [
    "## Aide"
   ]
  },
  {
   "cell_type": "code",
   "execution_count": 1,
   "metadata": {
    "collapsed": true
   },
   "outputs": [],
   "source": [
    "# help()\n",
    "# help(function)\n",
    "# help(package='package-name)"
   ]
  },
  {
   "cell_type": "markdown",
   "metadata": {},
   "source": [
    "## Autres ressources\n",
    "\n",
    "* http://www.ats.ucla.edu/stat/r/\n",
    "* http://www.ats.ucla.edu/stat/dae/\n",
    "* https://us.sagepub.com/en-us/nam/discovering-statistics-using-r/book236067"
   ]
  },
  {
   "cell_type": "markdown",
   "metadata": {},
   "source": [
    "## Paquets"
   ]
  },
  {
   "cell_type": "code",
   "execution_count": 4,
   "metadata": {
    "collapsed": false
   },
   "outputs": [
    {
     "ename": "ERROR",
     "evalue": "Error in contrib.url(repos, type): trying to use CRAN without setting a mirror\n",
     "output_type": "error",
     "traceback": [
      "Error in contrib.url(repos, type): trying to use CRAN without setting a mirror\n"
     ]
    }
   ],
   "source": [
    "# install\n",
    "# install.packages('package-name')\n",
    "\n",
    "# already installed with conda\n",
    "#install.packages(\"foreign\")\n",
    "#install.packages(\"Rcmdr\", dependencies = TRUE)\n",
    "\n",
    "# new installs\n",
    "install.packages(\"nortest\")\n",
    "install.packages(\"sas7bdat\")\n",
    "install.packages(\"Hmisc\")\n",
    "install.packages(\"pastecs\")"
   ]
  },
  {
   "cell_type": "code",
   "execution_count": 6,
   "metadata": {
    "collapsed": false,
    "scrolled": true
   },
   "outputs": [
    {
     "ename": "ERROR",
     "evalue": "Error in library(Hmisc): there is no package called ‘Hmisc’\n",
     "output_type": "error",
     "traceback": [
      "Error in library(Hmisc): there is no package called ‘Hmisc’\n"
     ]
    },
    {
     "ename": "ERROR",
     "evalue": "Error in library(pastecs): there is no package called ‘pastecs’\n",
     "output_type": "error",
     "traceback": [
      "Error in library(pastecs): there is no package called ‘pastecs’\n"
     ]
    }
   ],
   "source": [
    "# import\n",
    "# library('package-name')\n",
    "\n",
    "library(foreign)\n",
    "#library(nortest)\n",
    "#library(sas7bdat)\n",
    "#library(Hmisc)\n",
    "#library(pastecs)"
   ]
  },
  {
   "cell_type": "markdown",
   "metadata": {},
   "source": [
    "## Import fichier externe"
   ]
  },
  {
   "cell_type": "markdown",
   "metadata": {},
   "source": [
    "## Structuration d'un tableau"
   ]
  },
  {
   "cell_type": "markdown",
   "metadata": {},
   "source": [
    "## Variable centrée-réduite"
   ]
  },
  {
   "cell_type": "markdown",
   "metadata": {},
   "source": [
    "## Fonctions statistiques"
   ]
  }
 ],
 "metadata": {
  "kernelspec": {
   "display_name": "R",
   "language": "R",
   "name": "ir"
  },
  "language_info": {
   "codemirror_mode": "r",
   "file_extension": ".r",
   "mimetype": "text/x-r-source",
   "name": "R",
   "pygments_lexer": "r",
   "version": "3.2.2"
  }
 },
 "nbformat": 4,
 "nbformat_minor": 0
}
