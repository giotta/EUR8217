{
 "cells": [
  {
   "cell_type": "markdown",
   "metadata": {},
   "source": [
    "# Labos en R\n",
    "\n",
    "*Tous les labos, version R. (Pas de labo 1.)*"
   ]
  },
  {
   "cell_type": "markdown",
   "metadata": {},
   "source": [
    "---\n",
    "\n",
    "## Labo 2"
   ]
  },
  {
   "cell_type": "markdown",
   "metadata": {},
   "source": [
    "### Help"
   ]
  },
  {
   "cell_type": "code",
   "execution_count": null,
   "metadata": {
    "collapsed": false
   },
   "outputs": [],
   "source": [
    "# help()\n",
    "# help(function)\n",
    "# help(package='package-name)"
   ]
  },
  {
   "cell_type": "markdown",
   "metadata": {},
   "source": [
    "### Packages"
   ]
  },
  {
   "cell_type": "code",
   "execution_count": null,
   "metadata": {
    "collapsed": false
   },
   "outputs": [],
   "source": [
    "# install\n",
    "# install.packages('package-name')\n",
    "\n",
    "# already installed with conda\n",
    "#install.packages(\"foreign\")\n",
    "\n",
    "# new installs\n",
    "#install.packages(\"Rcmdr\", dependencies = TRUE, repos=\"http://cran.rstudio.com/\") # in conda?\n",
    "#install.packages(\"nortest\", repos=\"http://cran.rstudio.com/\")\n",
    "#install.packages(\"sas7bdat\", repos=\"http://cran.rstudio.com/\")\n",
    "#install.packages(\"Hmisc\", repos=\"http://cran.rstudio.com/\")\n",
    "#install.packages(\"pastecs\", repos=\"http://cran.rstudio.com/\")\n",
    "# import\n",
    "# library('package-name')\n",
    "\n",
    "library(foreign)\n",
    "library(nortest)\n",
    "library(sas7bdat)\n",
    "library(Hmisc)\n",
    "library(pastecs)"
   ]
  },
  {
   "cell_type": "markdown",
   "metadata": {},
   "source": [
    "### Working space"
   ]
  },
  {
   "cell_type": "code",
   "execution_count": null,
   "metadata": {
    "collapsed": true
   },
   "outputs": [],
   "source": [
    "ls()\n",
    "# rm(list=ls())\n",
    "# setwd()\n",
    "getwd()"
   ]
  },
  {
   "cell_type": "markdown",
   "metadata": {},
   "source": [
    "### Read data"
   ]
  },
  {
   "cell_type": "code",
   "execution_count": null,
   "metadata": {
    "collapsed": true
   },
   "outputs": [],
   "source": [
    "# import excel : via txt tab separated\n",
    "#fichierTexte <- read.table(\"data/labo2/SR_Data.txt\", header = TRUE)\n",
    "\n",
    "# import DBF (DBase)\n",
    "fichierDBF <- read.dbf(\"data/labo2/SR_Data.dbf\")\n",
    "\n",
    "# import SPSS\n",
    "#fichierSPSS <- read.spss(\"data/labo2/Data_SPSS.sav\", to.data.frame=TRUE)\n",
    "\n",
    "# import SAS\n",
    "#fichierSAS <- read.sas7bdat(\"data/labo2/tableau1.sas7bdat\", debug=FALSE)\n",
    "\n",
    "head(fichierDBF)"
   ]
  },
  {
   "cell_type": "markdown",
   "metadata": {},
   "source": [
    "### Table structure"
   ]
  },
  {
   "cell_type": "code",
   "execution_count": null,
   "metadata": {
    "collapsed": true
   },
   "outputs": [],
   "source": [
    "# show variable names\n",
    "names(fichierDBF)\n",
    "# indexes start at 1\n",
    "\n",
    "# delete variable\n",
    "fichierDBF$Shape_Leng <- NULL\n",
    "\n",
    "# rename variable\n",
    "names(fichierDBF)[1] <- \"POPTOT\"\n",
    "\n",
    "# create variable\n",
    "fichierDBF$km <- fichierDBF$Shape_Area / 1000000\n",
    "fichierDBF$HabKm2 <- fichierDBF$POPTOT / fichierDBF$km\n",
    "\n",
    "head(fichierDBF)"
   ]
  },
  {
   "cell_type": "code",
   "execution_count": null,
   "metadata": {
    "collapsed": true
   },
   "outputs": [],
   "source": [
    " # new table from a subset\n",
    "names(fichierDBF)\n",
    "ZScores <-fichierDBF[,c(12:15)]\n",
    "names(ZScores)"
   ]
  },
  {
   "cell_type": "markdown",
   "metadata": {},
   "source": [
    "### Normality"
   ]
  },
  {
   "cell_type": "code",
   "execution_count": null,
   "metadata": {
    "collapsed": false,
    "scrolled": true
   },
   "outputs": [],
   "source": [
    "#install.packages(\"moments\", repos=\"http://cran.rstudio.com/\")\n",
    "library(moments)"
   ]
  },
  {
   "cell_type": "markdown",
   "metadata": {},
   "source": [
    "#### Skewness"
   ]
  },
  {
   "cell_type": "code",
   "execution_count": null,
   "metadata": {
    "collapsed": false
   },
   "outputs": [],
   "source": [
    "skewness(fichierDBF)"
   ]
  },
  {
   "cell_type": "markdown",
   "metadata": {},
   "source": [
    "#### Kurtosis"
   ]
  },
  {
   "cell_type": "code",
   "execution_count": null,
   "metadata": {
    "collapsed": false
   },
   "outputs": [],
   "source": [
    "kurtosis(fichierDBF)"
   ]
  },
  {
   "cell_type": "markdown",
   "metadata": {},
   "source": [
    "#### Kolmogorov-Smirnov"
   ]
  },
  {
   "cell_type": "code",
   "execution_count": null,
   "metadata": {
    "collapsed": false
   },
   "outputs": [],
   "source": [
    "#lillie.test(Tableau1$HabKm2)\n",
    "# sapply(fichierDBF[18:20],lillie.test)\n",
    "sapply(fichierDBF[18],lillie.test)"
   ]
  },
  {
   "cell_type": "code",
   "execution_count": null,
   "metadata": {
    "collapsed": true
   },
   "outputs": [],
   "source": [
    "#ks.test(x, y) # two sample\n",
    "\n",
    "#m <- mean(fichierDBF[18])\n",
    "#s <- sd(fichierDBF[18])\n",
    "\n",
    "#ks.test(fichierDBF[18], \"pnorm\", m, s) "
   ]
  },
  {
   "cell_type": "markdown",
   "metadata": {},
   "source": [
    "#### Shapiro-Wilk"
   ]
  },
  {
   "cell_type": "code",
   "execution_count": null,
   "metadata": {
    "collapsed": false
   },
   "outputs": [],
   "source": [
    "sapply(fichierDBF[18],shapiro.test)  # sapply(fichierDBF[18:20],shapiro.test)"
   ]
  },
  {
   "cell_type": "markdown",
   "metadata": {},
   "source": [
    "### Transformations"
   ]
  },
  {
   "cell_type": "markdown",
   "metadata": {},
   "source": [
    "#### Square root"
   ]
  },
  {
   "cell_type": "code",
   "execution_count": null,
   "metadata": {
    "collapsed": false
   },
   "outputs": [],
   "source": [
    "fichierDBF$SqrtDens <- sqrt(fichierDBF$HabKm2)\n",
    "fichierDBF$SqrtImg <- sqrt(fichierDBF$IMMREC_PCT)"
   ]
  },
  {
   "cell_type": "markdown",
   "metadata": {},
   "source": [
    "#### Logarithmic"
   ]
  },
  {
   "cell_type": "code",
   "execution_count": null,
   "metadata": {
    "collapsed": false
   },
   "outputs": [],
   "source": [
    "# log(0) = error\n",
    "fichierDBF$LogDens <- log(fichierDBF$HabKm2)\n",
    "fichierDBF$LogImg <- log(fichierDBF$IMMREC_PCT+1)\n",
    "\n",
    "summary(fichierDBF)"
   ]
  },
  {
   "cell_type": "markdown",
   "metadata": {},
   "source": [
    "#### Centrage et réduction"
   ]
  },
  {
   "cell_type": "code",
   "execution_count": null,
   "metadata": {
    "collapsed": false
   },
   "outputs": [],
   "source": [
    "ZScores$INDICE_PAU <- scale(fichierDBF[1], center = TRUE, scale = TRUE)\n",
    "ZScores$Dist_Min <- scale(fichierDBF[2], center = TRUE, scale = TRUE)\n",
    "ZScores$N_1000 <- scale(fichierDBF[3], center = TRUE, scale = TRUE)\n",
    "ZScores$Dist_Moy_3 <- scale(fichierDBF[4], center = TRUE, scale = TRUE)\n",
    "\n",
    "#help(sapply)\n",
    "sapply(ZScores,mean)\n",
    "sapply(ZScores,sd)"
   ]
  },
  {
   "cell_type": "markdown",
   "metadata": {},
   "source": [
    "### Descriptive statistics"
   ]
  },
  {
   "cell_type": "code",
   "execution_count": null,
   "metadata": {
    "collapsed": true
   },
   "outputs": [],
   "source": [
    "summary(fichierDBF)"
   ]
  },
  {
   "cell_type": "code",
   "execution_count": null,
   "metadata": {
    "collapsed": true
   },
   "outputs": [],
   "source": [
    "sapply(fichierDBF, mean)\n",
    "sapply(fichierDBF, sd)\n",
    "sapply(fichierDBF, min)\n",
    "sapply(fichierDBF, max)\n",
    "sapply(fichierDBF, median)\n",
    "sapply(fichierDBF, range)\n",
    "sapply(fichierDBF, quantile)"
   ]
  },
  {
   "cell_type": "code",
   "execution_count": null,
   "metadata": {
    "collapsed": true
   },
   "outputs": [],
   "source": [
    "# Hmisc.describe\n",
    "describe(fichierDBF)"
   ]
  },
  {
   "cell_type": "code",
   "execution_count": null,
   "metadata": {
    "collapsed": false
   },
   "outputs": [],
   "source": [
    "# pastecs.stat.desc\n",
    "stat.desc(fichierDBF, basic=TRUE, norm=TRUE)"
   ]
  },
  {
   "cell_type": "markdown",
   "metadata": {},
   "source": [
    "### Histograms"
   ]
  },
  {
   "cell_type": "code",
   "execution_count": null,
   "metadata": {
    "collapsed": false
   },
   "outputs": [],
   "source": [
    "hist(fichierDBF$HabKm2, main=\"Histogramme\", xlab=\"Habitants au km2\", ylab=\"Effectif\", breaks=10, col='lightblue')"
   ]
  },
  {
   "cell_type": "code",
   "execution_count": null,
   "metadata": {
    "collapsed": true
   },
   "outputs": [],
   "source": [
    "hist(fichierDBF$SqrtDens, main=\"Histogramme\", xlab=\"Habitants au km2 (racine)\", ylab=\"Effectif\", breaks=10, col='gold')"
   ]
  },
  {
   "cell_type": "code",
   "execution_count": null,
   "metadata": {
    "collapsed": true
   },
   "outputs": [],
   "source": [
    "hist(fichierDBF$LogDens, main=\"Histogramme\", xlab=\"Habitants au km2 log)\", ylab=\"Effectif\", breaks=10, col='coral')"
   ]
  },
  {
   "cell_type": "markdown",
   "metadata": {},
   "source": [
    "#### Histogram with normal curve"
   ]
  },
  {
   "cell_type": "code",
   "execution_count": null,
   "metadata": {
    "collapsed": true
   },
   "outputs": [],
   "source": [
    "x <- fichierDBF$HabKm2\n",
    "h<-hist(x, breaks=10, col=\"lightblue\", xlab=\"Habitants au km2\", ylab=\"Effectif\", \n",
    "main=\"Histogramme avec courbe normale\")\n",
    "xfit<-seq(min(x),max(x),length=40)\n",
    "yfit<-dnorm(xfit,mean=mean(x),sd=sd(x))\n",
    "yfit <- yfit*diff(h$mids[1:2])*length(x)\n",
    "lines(xfit, yfit, col=\"blue\", lwd=2)"
   ]
  },
  {
   "cell_type": "code",
   "execution_count": null,
   "metadata": {
    "collapsed": true
   },
   "outputs": [],
   "source": [
    "x <- fichierDBF$SqrtDens\n",
    "h<-hist(x, breaks=10, col=\"red\", xlab=\"Habitants au km2 (racine)\", ylab = \"Effectif\",\n",
    "main=\"Histogramme avec courbe normale\")\n",
    "xfit<-seq(min(x),max(x),length=40)\n",
    "yfit<-dnorm(xfit,mean=mean(x),sd=sd(x))\n",
    "yfit <- yfit*diff(h$mids[1:2])*length(x)\n",
    "lines(xfit, yfit, col=\"blue\", lwd=2)"
   ]
  },
  {
   "cell_type": "markdown",
   "metadata": {},
   "source": [
    "---\n",
    "\n",
    "## Labo 3"
   ]
  },
  {
   "cell_type": "markdown",
   "metadata": {},
   "source": [
    "### Graphiques\n",
    "\n",
    "* [couleurs](http://www.stat.columbia.edu/~tzheng/files/Rcolor.pdf)\n",
    "* [graphiques de base](http://www.ats.ucla.edu/stat/r/gbe/default.htm)\n",
    "* [graphiques avancés](http://www.statmethods.net/graphs/creating.html)"
   ]
  },
  {
   "cell_type": "code",
   "execution_count": null,
   "metadata": {
    "collapsed": true
   },
   "outputs": [],
   "source": [
    "# install\n",
    "#install.packages('doBy', repos=\"http://cran.rstudio.com/\")\n",
    "#install.packages('gmodels', repos=\"http://cran.rstudio.com/\")\n",
    "#install.packages('scatterplot3d', repos=\"http://cran.rstudio.com/\")\n",
    "\n",
    "# import\n",
    "library(foreign)\n",
    "library(nortest)\n",
    "library(sas7bdat)\n",
    "library(Hmisc)\n",
    "library(pastecs)\n",
    "library(ggplot2)\n",
    "library(doBy)\n",
    "library(gmodels)\n",
    "library(scatterplot3d)\n",
    "\n",
    "# data\n",
    "Tableau1 <- read.sas7bdat(\"data/labo3/tableau1.sas7bdat\", debug=FALSE)\n",
    "names(Tableau1)\n",
    "\n",
    "TableauKhi2 <- read.sas7bdat(\"data/labo3/khi2.sas7bdat\", debug=FALSE)\n",
    "names(TableauKhi2)"
   ]
  },
  {
   "cell_type": "markdown",
   "metadata": {},
   "source": [
    "#### Histogrammes classiques"
   ]
  },
  {
   "cell_type": "code",
   "execution_count": null,
   "metadata": {
    "collapsed": true
   },
   "outputs": [],
   "source": [
    "hist(Tableau1$IMMREC_PCT, breaks=10, xlab=\"Immigrants récents (%)\", ylab = \"Effectif\", main=\"Histogramme\") "
   ]
  },
  {
   "cell_type": "markdown",
   "metadata": {},
   "source": [
    "breaks = nombre de barres"
   ]
  },
  {
   "cell_type": "code",
   "execution_count": null,
   "metadata": {
    "collapsed": true
   },
   "outputs": [],
   "source": [
    "hist(Tableau1$IMMREC_PCT, breaks=20, xlab=\"Immigrants récents (%)\", ylab = \"Effectif\", main=\"Histogramme\") "
   ]
  },
  {
   "cell_type": "markdown",
   "metadata": {},
   "source": [
    "density = pour rendu barres (ex.: hachures)"
   ]
  },
  {
   "cell_type": "code",
   "execution_count": null,
   "metadata": {
    "collapsed": true
   },
   "outputs": [],
   "source": [
    "hist(Tableau1$IMMREC_PCT, density=20, breaks=20, xlab=\"Immigrants récents (%)\", ylab = \"Effectif\", main=\"Histogramme\") "
   ]
  },
  {
   "cell_type": "markdown",
   "metadata": {},
   "source": [
    "col = colours"
   ]
  },
  {
   "cell_type": "code",
   "execution_count": null,
   "metadata": {
    "collapsed": true
   },
   "outputs": [],
   "source": [
    "hist(Tableau1$IMMREC_PCT, breaks=20, col=\"red\", xlab=\"Immigrants récents (%)\", ylab = \"Effectif\", main=\"Histogramme\") \n",
    "hist(Tableau1$IMMREC_PCT, breaks=20, col=\"lightyellow\", xlab=\"Immigrants récents (%)\", ylab = \"Effectif\", main=\"Histogramme\") \n",
    "hist(Tableau1$IMMREC_PCT, breaks=20, col=\"lightsalmon\", xlab=\"Immigrants récents (%)\", ylab = \"Effectif\", main=\"Histogramme\") \n",
    "hist(Tableau1$IMMREC_PCT, breaks=20, col=\"lightgreen\", xlab=\"Immigrants récents (%)\", ylab = \"Effectif\", main=\"Histogramme\") "
   ]
  },
  {
   "cell_type": "code",
   "execution_count": null,
   "metadata": {
    "collapsed": true
   },
   "outputs": [],
   "source": []
  },
  {
   "cell_type": "markdown",
   "metadata": {},
   "source": [
    "ylim = limites"
   ]
  },
  {
   "cell_type": "code",
   "execution_count": null,
   "metadata": {
    "collapsed": true
   },
   "outputs": [],
   "source": [
    "plot(\n",
    "    hist(Tableau1$IMMREC_PCT, breaks=20),\n",
    "    ylim=c(0, 80), col=\"lightgreen\", xlab=\"Immigrants récents (%)\", ylab = \"Effectif\", main=\"Histogramme\"\n",
    ") "
   ]
  },
  {
   "cell_type": "markdown",
   "metadata": {},
   "source": [
    "prob : proportion vs effectif"
   ]
  },
  {
   "cell_type": "code",
   "execution_count": null,
   "metadata": {
    "collapsed": true
   },
   "outputs": [],
   "source": [
    "hist(Tableau1$IMMREC_PCT, col=\"lightgray\", breaks=20, xlab=\"Immigrants récents (%)\", ylab = \"Proportion\", main=\"Histogramme\", prob=TRUE)"
   ]
  },
  {
   "cell_type": "markdown",
   "metadata": {},
   "source": [
    "#### Histogrammes avec courbe normale"
   ]
  },
  {
   "cell_type": "markdown",
   "metadata": {},
   "source": [
    "y = proportion"
   ]
  },
  {
   "cell_type": "code",
   "execution_count": null,
   "metadata": {
    "collapsed": true
   },
   "outputs": [],
   "source": [
    "m <- mean(Tableau1$IMMREC_PCT)\n",
    "std <- sd(Tableau1$IMMREC_PCT)\n",
    "hist(Tableau1$IMMREC_PCT, col=\"lightyellow\", breaks=20, prob=TRUE, xlab=\"Immigrants récents (%)\", ylab = \"Proportion\", main=\"Histogramme avec la courbe normale\")\n",
    "curve(dnorm(x, mean=m, sd=std), col=\"darkblue\", lwd=2, add=TRUE)"
   ]
  },
  {
   "cell_type": "markdown",
   "metadata": {},
   "source": [
    "y = effectif"
   ]
  },
  {
   "cell_type": "code",
   "execution_count": null,
   "metadata": {
    "collapsed": true
   },
   "outputs": [],
   "source": [
    "x <- Tableau1$IMMREC_PCT\n",
    "h<-hist(x, breaks=20, col=\"lightyellow\", xlab=\"Immigrants récents (%)\", ylab = \"Effectif\", main=\"Histogramme avec la courbe normale\") \n",
    "xfit<-seq(min(x),max(x),length=40) \n",
    "yfit<-dnorm(xfit,mean=mean(x),sd=sd(x)) \n",
    "yfit <- yfit*diff(h$mids[1:2])*length(x) \n",
    "lines(xfit, yfit, col=\"darkblue\", lwd=2)"
   ]
  },
  {
   "cell_type": "markdown",
   "metadata": {},
   "source": [
    "#### Nuages de points"
   ]
  },
  {
   "cell_type": "code",
   "execution_count": null,
   "metadata": {
    "collapsed": true
   },
   "outputs": [],
   "source": [
    "plot(Tableau1$IMMREC_PCT, Tableau1$FAIBREVPCT, xlab=\"Immigrants récents (%)\", ylab = \"Faible revenu (%)\", main=\"Nuage de points\")"
   ]
  },
  {
   "cell_type": "markdown",
   "metadata": {},
   "source": [
    "#### Nuages de points avec droite de régression"
   ]
  },
  {
   "cell_type": "code",
   "execution_count": null,
   "metadata": {
    "collapsed": true
   },
   "outputs": [],
   "source": [
    "plot(Tableau1$IMMREC_PCT, Tableau1$FAIBREVPCT, xlab=\"Immigrants récents (%)\", ylab = \"Faible revenu (%)\", main=\"Nuage de points avec droite de régression\")\n",
    "abline(lsfit(Tableau1$IMMREC_PCT, Tableau1$FAIBREVPCT))"
   ]
  },
  {
   "cell_type": "markdown",
   "metadata": {},
   "source": [
    "#### Matrice de nuage de points"
   ]
  },
  {
   "cell_type": "code",
   "execution_count": null,
   "metadata": {
    "collapsed": true
   },
   "outputs": [],
   "source": [
    "pairs(~MONOPCT+MENAGE1PCT+TX_CHOM+FAIBREVPCT,data=Tableau1, \n",
    "      main=\"Matrice de nuages de points\")"
   ]
  },
  {
   "cell_type": "markdown",
   "metadata": {},
   "source": [
    "#### Nuages de point 3D"
   ]
  },
  {
   "cell_type": "code",
   "execution_count": null,
   "metadata": {
    "collapsed": true
   },
   "outputs": [],
   "source": [
    "scatterplot3d(Tableau1$MONOPCT, Tableau1$TX_CHOM, Tableau1$FAIBREVPCT, main=\"Nuage de points 3D\")\n",
    "scatterplot3d(Tableau1$MONOPCT, Tableau1$TX_CHOM, Tableau1$FAIBREVPCT, main=\"Nuage de points 3D\", xlab=\"Familles monoparentales (%)\", ylab=\"Taux de chômage\", zlab=\"Faible revenu (%)\");"
   ]
  },
  {
   "cell_type": "markdown",
   "metadata": {},
   "source": [
    "### Matrice de corrélation"
   ]
  },
  {
   "cell_type": "markdown",
   "metadata": {},
   "source": [
    "#### Pearson"
   ]
  },
  {
   "cell_type": "code",
   "execution_count": null,
   "metadata": {
    "collapsed": false
   },
   "outputs": [],
   "source": [
    "rcorr(cbind(Tableau1$MONOPCT,Tableau1$MENAGE1PCT,Tableau1$TX_CHOM,Tableau1$FAIBREVPCT,Tableau1$Dist_Min,Tableau1$N_1000), type=\"pearson\")"
   ]
  },
  {
   "cell_type": "markdown",
   "metadata": {},
   "source": [
    "#### Spearman"
   ]
  },
  {
   "cell_type": "code",
   "execution_count": null,
   "metadata": {
    "collapsed": false
   },
   "outputs": [],
   "source": [
    "rcorr(cbind(Tableau1$MONOPCT,Tableau1$MENAGE1PCT,Tableau1$TX_CHOM,Tableau1$FAIBREVPCT,Tableau1$Dist_Min,Tableau1$N_1000), type=\"spearman\")"
   ]
  },
  {
   "cell_type": "markdown",
   "metadata": {},
   "source": [
    "### Régression linéaire simple"
   ]
  },
  {
   "cell_type": "code",
   "execution_count": null,
   "metadata": {
    "collapsed": true
   },
   "outputs": [],
   "source": [
    "reg <- lm(TX_CHOM ~ FAIBREVPCT, data = Tableau1)\n",
    "summary(reg)\n",
    "\n",
    "names(Tableau1)"
   ]
  },
  {
   "cell_type": "markdown",
   "metadata": {},
   "source": [
    "### Tableau de contingence"
   ]
  },
  {
   "cell_type": "code",
   "execution_count": null,
   "metadata": {
    "collapsed": false
   },
   "outputs": [],
   "source": [
    "names(TableauKhi2)"
   ]
  },
  {
   "cell_type": "markdown",
   "metadata": {},
   "source": [
    "#### Modalités variables nominales"
   ]
  },
  {
   "cell_type": "code",
   "execution_count": null,
   "metadata": {
    "collapsed": true
   },
   "outputs": [],
   "source": [
    "# sex\n",
    "table(TableauKhi2$SEX)\n",
    "TableauKhi2$SEX <- factor(TableauKhi2$SEX, levels = c(1,2), labels = c(\"Homme\", \"Femme\"))\n",
    "table(TableauKhi2$SEX)\n",
    "\n",
    "# transport mode\n",
    "table(TableauKhi2$Mode)\n",
    "TableauKhi2$Mode <- factor(TableauKhi2$Mode, levels = c(0:4), labels = c(\"Auto (conducteur)\", \"Auto (passager)\", \"Transport en commun\", \"Tranport actif\", \"Autres\"))\n",
    "table(TableauKhi2$Mode)\n",
    "\n",
    "# distance\n",
    "table(TableauKhi2$DIST)\n",
    "TableauKhi2$DIST <- factor(TableauKhi2$DIST, levels = c(1:7), labels = c(\"Moins de 5 km\", \"5 à 9,9 km\",\"10 à 14,9 km\", \"15 à 19,9 km\", \"20 à 24,9 km\", \"25 à 29,9 km\", \"30 km et plus\"))\n",
    "table(TableauKhi2$DIST)"
   ]
  },
  {
   "cell_type": "markdown",
   "metadata": {},
   "source": [
    "#### Tableau de contingence"
   ]
  },
  {
   "cell_type": "code",
   "execution_count": null,
   "metadata": {
    "collapsed": false
   },
   "outputs": [],
   "source": [
    "CrossTable(TableauKhi2$SEX, TableauKhi2$Mode, chisq=TRUE, expected=TRUE, resid=TRUE, format=\"SPSS\")\n",
    "CrossTable(TableauKhi2$SEX, TableauKhi2$DIST, chisq=TRUE, expected=TRUE, resid=TRUE, format=\"SPSS\")\n",
    "CrossTable(TableauKhi2$Mode, TableauKhi2$DIST, chisq=TRUE, expected=TRUE, resid=TRUE, format=\"SPSS\")"
   ]
  },
  {
   "cell_type": "markdown",
   "metadata": {},
   "source": [
    "---\n",
    "\n",
    "## Labo 4"
   ]
  },
  {
   "cell_type": "code",
   "execution_count": null,
   "metadata": {
    "collapsed": false
   },
   "outputs": [],
   "source": [
    "# import\n",
    "library(foreign)\n",
    "library(nortest)\n",
    "library(sas7bdat)\n",
    "library(doBy)\n",
    "\n",
    "# data\n",
    "MTL <- read.sas7bdat(\"data/labo4/mtl_ttest.sas7bdat\", debug=FALSE)\n",
    "TOR <- read.sas7bdat(\"data/labo4/tor_ttest.sas7bdat\", debug=FALSE)\n",
    "VAN <- read.sas7bdat(\"data/labo4/van_ttest.sas7bdat\", debug=FALSE)\n",
    "TROISRMR <- read.sas7bdat(\"data/labo4/troisrmr_anova.sas7bdat\", debug=FALSE)\n",
    "names(MTL)\n",
    "names(TOR)\n",
    "names(VAN)\n",
    "names(TROISRMR)"
   ]
  },
  {
   "cell_type": "code",
   "execution_count": null,
   "metadata": {
    "collapsed": true
   },
   "outputs": [],
   "source": [
    "# modalités (labels)\n",
    "table(MTL$SEX)\n",
    "table(TOR$SEX)\n",
    "table(VAN$SEX)\n",
    "MTL$SEX <- factor(MTL$SEX, levels = c(1,2), labels = c(\"Homme\", \"Femme\"))\n",
    "TOR$SEX <- factor(TOR$SEX, levels = c(1,2), labels = c(\"Homme\", \"Femme\"))\n",
    "VAN$SEX <- factor(VAN$SEX, levels = c(1,2), labels = c(\"Homme\", \"Femme\"))\n",
    "table(MTL$SEX)\n",
    "table(TOR$SEX)\n",
    "table(VAN$SEX)\n",
    "\n",
    "TROISRMR$CMA <- factor(TROISRMR$CMA, levels = c(462,535,933), labels = c(\"Montréal\", \"Toronto\", \"Vancouver\"))\n",
    "table(TROISRMR$CMA)"
   ]
  },
  {
   "cell_type": "markdown",
   "metadata": {},
   "source": [
    "### T-Test : Comparaison de moyennes"
   ]
  },
  {
   "cell_type": "markdown",
   "metadata": {},
   "source": [
    "#### Test F\n",
    "\n",
    "Vérification de l'égalité des variances"
   ]
  },
  {
   "cell_type": "code",
   "execution_count": null,
   "metadata": {
    "collapsed": false
   },
   "outputs": [],
   "source": [
    "var.test(TOTINC ~ SEX, alternative='two.sided', conf.level=.95, data=MTL)"
   ]
  },
  {
   "cell_type": "markdown",
   "metadata": {},
   "source": [
    "Interprétation\n",
    "* **p-value < 2.2e-16**\n",
    "    * p < 0.05 alors méthode Satterthwaite\n",
    "* **true ratio of variances is not equal to 1**"
   ]
  },
  {
   "cell_type": "markdown",
   "metadata": {},
   "source": [
    "#### Méthode Satterthwaite\n",
    "\n",
    "Pas égales : P < 0,05\n",
    "* `var.equal=FALSE`"
   ]
  },
  {
   "cell_type": "code",
   "execution_count": null,
   "metadata": {
    "collapsed": false
   },
   "outputs": [],
   "source": [
    "t.test(TOTINC~SEX, alternative='two.sided', conf.level=.95, var.equal=FALSE, data=MTL)"
   ]
  },
  {
   "cell_type": "markdown",
   "metadata": {},
   "source": [
    "Interprétation\n",
    "* **t = -27.088**\n",
    "* **p-value < 2.2e-16**"
   ]
  },
  {
   "cell_type": "markdown",
   "metadata": {},
   "source": [
    "#### Méthode Pooled\n",
    "\n",
    "Égales : P >= 0,05\n",
    "* `var.equal=TRUE`"
   ]
  },
  {
   "cell_type": "code",
   "execution_count": null,
   "metadata": {
    "collapsed": true
   },
   "outputs": [],
   "source": [
    "t.test(TOTINC~SEX, alternative='two.sided', conf.level=.95, var.equal=TRUE, data=MTL)\n",
    "boxplot(TOTINC~SEX, data = MTL, col = \"coral\", main=\"Boites à moustache (RMR de Montréal)\", xlab=\"Sexe\", ylab=\"Revenu total\")\n",
    "boxplot(LogTotInc~SEX, data = MTL, col = \"coral\", main=\"Boites à moustache (RMR de Montréal)\", xlab=\"Sexe\", ylab=\"Revenu total (log)\")"
   ]
  },
  {
   "cell_type": "markdown",
   "metadata": {},
   "source": [
    "Interprétation\n",
    "* **t = -27.783**\n",
    "* **p-value < 2.2e-16**"
   ]
  },
  {
   "cell_type": "markdown",
   "metadata": {},
   "source": [
    "### Analyse des résultats\n",
    "\n",
    "Contexte dataset, valeurs et comparaison des 2 moyennes des 2 modes de la variable qualitative, \"la différence entre les moyennes (x) est d'ailleurs significative (t=27,09; P<0,001)\"."
   ]
  },
  {
   "cell_type": "markdown",
   "metadata": {},
   "source": [
    "### ANOVA : Analyse de variance"
   ]
  },
  {
   "cell_type": "markdown",
   "metadata": {},
   "source": [
    "Moyenne par groupe"
   ]
  },
  {
   "cell_type": "code",
   "execution_count": null,
   "metadata": {
    "collapsed": false,
    "scrolled": true
   },
   "outputs": [],
   "source": [
    "# doBy\n",
    "summaryBy(GROSRT ~ CMA, TROISRMR, FUN=c(mean), na.rm=TRUE)"
   ]
  },
  {
   "cell_type": "markdown",
   "metadata": {},
   "source": [
    "#### Boxplot\n",
    "\n",
    "Visualisation d'ANOVA"
   ]
  },
  {
   "cell_type": "code",
   "execution_count": null,
   "metadata": {
    "collapsed": false
   },
   "outputs": [],
   "source": [
    "boxplot(GROSRT ~ CMA, data = TROISRMR, col = \"lightyellow\", main=\"Boites à moustache\", xlab=\"Région métropolitaine\", ylab=\"Loyer ($)\")  #Analyse de variance : test F"
   ]
  },
  {
   "cell_type": "markdown",
   "metadata": {},
   "source": [
    "#### ANOVA"
   ]
  },
  {
   "cell_type": "code",
   "execution_count": null,
   "metadata": {
    "collapsed": false
   },
   "outputs": [],
   "source": [
    "anova.aov <- aov(GROSRT ~ CMA, data = TROISRMR)\n",
    "summary(anova.aov)"
   ]
  },
  {
   "cell_type": "markdown",
   "metadata": {},
   "source": [
    "Interprétation\n",
    "* **CMA Sum Sq** = variance expliquée (inter)\n",
    "* **Residuals Sum Sq** = variance non expliquée (intra)\n",
    "* **CMA Df** = nombre de degrés de liberté pour variance expliquée (inter)\n",
    "* **Residuals Df** = nombre de degrés de liberté pour variance non expliquée (intra)\n",
    "* **CMA F value** = F observé\n",
    "* **CMA Pr(>F)** = Valeur de P rattachée à valeur de F"
   ]
  },
  {
   "cell_type": "markdown",
   "metadata": {},
   "source": [
    "#### Test de F\n",
    "\n",
    "Hypothèse H0 = \"indépendance entre les deux variances (inter et intra)\"\n",
    "\n",
    "* k = nombre de groupes\n",
    "* n = nombre d'observations\n",
    "\n",
    "* DL numérateur (VE, inter) de table de Fisher\n",
    "    * k - 1\n",
    "* DL dénominateur (VNE, intra) de table de Fisher\n",
    "    * n - k\n",
    "\n",
    "Calcul F théorique\n",
    "* F théorique\n",
    "* P associé au F théorique, seuils de signification\n",
    "    * 95% : p=0,05\n",
    "    * 99% : p=0,01\n",
    "    * 99,9% : p=0,001"
   ]
  },
  {
   "cell_type": "code",
   "execution_count": null,
   "metadata": {
    "collapsed": false
   },
   "outputs": [],
   "source": [
    "f_theorique <- qf(0.99, 2, 8379)\n",
    "f_theorique\n",
    "# qt() pour table Student t pour coefficient de ... \n",
    "# (voir autres cours)"
   ]
  },
  {
   "cell_type": "markdown",
   "metadata": {},
   "source": [
    "Interprétation\n",
    "* F observé > à F théorique\n",
    "    * moyennes sont statistiquement différentes\n",
    "    * H0 rejeté\n",
    "* F observé < F théorique\n",
    "    * moyennes des groupes ne sont pas différentes\n",
    "    * H0 validée"
   ]
  },
  {
   "cell_type": "markdown",
   "metadata": {},
   "source": [
    "#### Calcul R carré\n",
    "\n",
    "Pour obtenir Coefficient de détermination"
   ]
  },
  {
   "cell_type": "code",
   "execution_count": null,
   "metadata": {
    "collapsed": false
   },
   "outputs": [],
   "source": [
    "anova.r2 <- lm(GROSRT ~ CMA, data = TROISRMR)\n",
    "summary(anova.r2)"
   ]
  },
  {
   "cell_type": "markdown",
   "metadata": {},
   "source": [
    "Interprétation\n",
    "* **Multiple R-squared** = Coefficient de détermination\n",
    "    * la variable qualitative explique à x% la variation de la vaiable quantitative"
   ]
  },
  {
   "cell_type": "markdown",
   "metadata": {},
   "source": [
    "#### Test de Tukey\n",
    "\n",
    "Comparaison des moyennes groupes, 2 à 2"
   ]
  },
  {
   "cell_type": "code",
   "execution_count": null,
   "metadata": {
    "collapsed": false
   },
   "outputs": [],
   "source": [
    "TukeyHSD(anova.aov)"
   ]
  },
  {
   "cell_type": "markdown",
   "metadata": {},
   "source": [
    "---\n",
    "\n",
    "## Labo 5"
   ]
  },
  {
   "cell_type": "code",
   "execution_count": null,
   "metadata": {
    "collapsed": true
   },
   "outputs": [],
   "source": [
    "# INSTALLATION D'EXTENSIONS -------------------------------------------------------------\n",
    "# install.packages(\"foreign\")      ## Read Data Stored by Minitab, S, SAS, SPSS, Stata, Systat, dBase\n",
    "install.packages(\"MASS\")      ## Tests de normalit� supp.\n",
    "install.packages(\"car\")      ## Companion to Applied Regression\n",
    "\n",
    "\n",
    "# import\n",
    "library(foreign)\n",
    "library(MASS)\n",
    "library(sas7bdat)\n",
    "library(pastecs)\n",
    "library(car)\n",
    "\n",
    "# data\n",
    "MTL <- read.sas7bdat(\"pauvretemtl.sas7bdat\", debug=FALSE)\n",
    "names(MTL)\n",
    "\n",
    "# STATISTIQUES UNIVARI�ES ----------------------\n",
    "summary(MTL)\n",
    "\n",
    "# R�GRESSION LIN�AIRE MULTIPLE ----------------\n",
    "ols <- lm(FAIBREVPCT ~ SqrtChom+MONOPCT+menage1per+SqrtImmig+pasecol1524+tpspartiel, data = MTL)\n",
    "summary(ols)\n",
    "\n",
    "# Obtenir les coefficients standardis�s en utilisant SCALE pour la variable d�pendante et toutes les variables ind�pendantes\n",
    "CoefStand <- lm(scale(FAIBREVPCT) ~ scale(SqrtChom)+scale(MONOPCT)+scale(menage1per)+scale(SqrtImmig)+scale(pasecol1524)+scale(tpspartiel), data = MTL)\n",
    "summary(CoefStand)\n",
    "\n",
    "# Valeurs de VIF pour la multicollin�arit�\n",
    "vif(ols)\n",
    "vif(ols) > 5 # probl�me de multicollin�arit� (VIF > 5)?\n",
    "\n",
    "# Graphiques et distance de cook\n",
    "opar <- par(mfrow = c(2, 2), oma = c(0, 0, 1.1, 0))\n",
    "plot(ols, las = 1)\n",
    "par(opar)\n",
    "\n",
    "# Histogramme sur les r�sidus et v�rification de la normalit� des r�sidus\n",
    "m <- mean(residuals(ols))\n",
    "std <- sd(residuals(ols))\n",
    "hist(residuals(ols), col=\"lightyellow\", breaks=20, prob=TRUE, xlab=\"R�sidus OLS\", ylab = \"Proportion\", main=\"Histogramme avec la courbe normale\")\n",
    "curve(dnorm(x, mean=m, sd=std), col=\"darkblue\", lwd=2, add=TRUE)\n",
    "stat.desc(residuals(ols), basic=TRUE, norm=TRUE)\n",
    "\n",
    "# Rep�rer les valeurs aberrantes : Distance de Cook > 4 / n ou 8 / n\n",
    "nobs <- NROW(na.omit(residuals(ols)))            # Nombre d'observations dans le jeu de donn�es\n",
    "cook <- cooks.distance(ols)                      # Distance de Cook\n",
    "ypredit <- fitted.values(ols)                    # Y pr�dits par le mod�le\n",
    "res <- residuals(ols)                            # r�sidus (Y - Y pr�dits par le mod�le)\n",
    "res_std <- rstandard(ols)                        # r�sidus standardis�s\n",
    "\n",
    "a <- cbind(MTL, cook, ypredit, res, res_std)\n",
    "a<- a[order(-cook), ]\n",
    "a[cook > 4/nobs, ]    # Observations dont la distance de Cook > 4 / n\n",
    "a[cook > 8/nobs, ]    # Observations dont la distance de Cook > 8 / n \n",
    "\n",
    "# Tableau de donn�es sans les valeurs aberrantes (Cook > 8 / n )\n",
    "dataSansOutliers <- a[a$cook  < 8/nobs, ]\n",
    "dataSansOutliers$cook <- NULL\n",
    "dataSansOutliers$ypredit <- NULL\n",
    "dataSansOutliers$res <- NULL\n",
    "dataSansOutliers$res_std <- NULL\n",
    "head(dataSansOutliers)\n",
    "\n",
    "# Nouveau mod�le de r�gression sans les valeurs aberrantes\n",
    "ols2 <- lm(FAIBREVPCT ~ SqrtChom+MONOPCT+menage1per+SqrtImmig+pasecol1524+tpspartiel, data = dataSansOutliers)\n",
    "summary(ols2)\n",
    "opar <- par(mfrow = c(2, 2), oma = c(0, 0, 1.1, 0))\n",
    "plot(ols, las = 1)\n",
    "par(opar)\n",
    "\n",
    "# Comparaison des deux mod�les : coefficients\n",
    "summary(ols)\n",
    "summary(ols2)\n",
    "\n",
    "# Comparaison des deux mod�les \n",
    "vif(ols)\n",
    "vif(ols2)\n",
    "\n",
    "# Comparaison des deux histogrammes\n",
    "m <- mean(residuals(ols))\n",
    "std <- sd(residuals(ols))\n",
    "hist(residuals(ols), col=\"lightyellow\", breaks=20, prob=TRUE, xlab=\"R�sidus OLS\", ylab = \"Proportion\", main=\"Mod�le de d�part\")\n",
    "curve(dnorm(x, mean=m, sd=std), col=\"darkblue\", lwd=2, add=TRUE)\n",
    "stat.desc(residuals(ols), basic=TRUE, norm=TRUE)\n",
    "\n",
    "m <- mean(residuals(ols2))\n",
    "std <- sd(residuals(ols2))\n",
    "hist(residuals(ols2), col=\"lightyellow\", breaks=20, prob=TRUE, xlab=\"R�sidus OLS\", ylab = \"Proportion\", main=\"Mod�le sans les outliers\")\n",
    "curve(dnorm(x, mean=m, sd=std), col=\"darkblue\", lwd=2, add=TRUE)\n",
    "stat.desc(residuals(ols2), basic=TRUE, norm=TRUE)\n",
    "\n",
    "# Comparaison de la normalit�\n",
    "stat.desc(residuals(ols), basic=TRUE, norm=TRUE)\n",
    "stat.desc(residuals(ols2), basic=TRUE, norm=TRUE)\n"
   ]
  }
 ],
 "metadata": {
  "kernelspec": {
   "display_name": "R",
   "language": "R",
   "name": "ir"
  },
  "language_info": {
   "codemirror_mode": "r",
   "file_extension": ".r",
   "mimetype": "text/x-r-source",
   "name": "R",
   "pygments_lexer": "r",
   "version": "3.2.2"
  }
 },
 "nbformat": 4,
 "nbformat_minor": 0
}
