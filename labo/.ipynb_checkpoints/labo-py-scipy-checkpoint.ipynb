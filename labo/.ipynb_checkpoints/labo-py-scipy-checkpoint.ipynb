{
 "cells": [
  {
   "cell_type": "markdown",
   "metadata": {},
   "source": [
    "# scipy\n",
    "\n",
    "* Documentation\n",
    "    * [scipy](http://docs.scipy.org/doc/)\n",
    "    * scipy.stats\n",
    "        * [reference](http://docs.scipy.org/doc/scipy/reference/stats.html)\n",
    "        * [tutoriel](http://docs.scipy.org/doc/scipy/reference/tutorial/stats.html)\n",
    "    * [scikits](http://scikits.appspot.com/scikits)\n",
    "        * [timeseries](http://scikits.appspot.com/timeseries)"
   ]
  },
  {
   "cell_type": "code",
   "execution_count": 1,
   "metadata": {
    "collapsed": true
   },
   "outputs": [],
   "source": [
    "from scipy import stats"
   ]
  }
 ],
 "metadata": {
  "kernelspec": {
   "display_name": "Python 3",
   "language": "python",
   "name": "python3"
  },
  "language_info": {
   "codemirror_mode": {
    "name": "ipython",
    "version": 3
   },
   "file_extension": ".py",
   "mimetype": "text/x-python",
   "name": "python",
   "nbconvert_exporter": "python",
   "pygments_lexer": "ipython3",
   "version": "3.5.1"
  }
 },
 "nbformat": 4,
 "nbformat_minor": 0
}
