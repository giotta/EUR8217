{
 "cells": [
  {
   "cell_type": "markdown",
   "metadata": {},
   "source": [
    "# Labo 2 - Statistiques univariées"
   ]
  },
  {
   "cell_type": "code",
   "execution_count": 1,
   "metadata": {
    "collapsed": false
   },
   "outputs": [],
   "source": [
    "%reload_ext rpy2.ipython\n",
    "\n",
    "import pandas as pd\n",
    "from simpledbf import Dbf5"
   ]
  },
  {
   "cell_type": "markdown",
   "metadata": {},
   "source": [
    "## Aide"
   ]
  },
  {
   "cell_type": "code",
   "execution_count": null,
   "metadata": {
    "collapsed": false
   },
   "outputs": [],
   "source": [
    "%%R\n",
    "# help()\n",
    "# help(function)\n",
    "# help(package='package-name)"
   ]
  },
  {
   "cell_type": "markdown",
   "metadata": {},
   "source": [
    "## Autres ressources\n",
    "\n",
    "* http://www.ats.ucla.edu/stat/r/\n",
    "* http://www.ats.ucla.edu/stat/dae/\n",
    "* https://us.sagepub.com/en-us/nam/discovering-statistics-using-r/book236067"
   ]
  },
  {
   "cell_type": "markdown",
   "metadata": {},
   "source": [
    "## Paquets"
   ]
  },
  {
   "cell_type": "code",
   "execution_count": null,
   "metadata": {
    "collapsed": false
   },
   "outputs": [],
   "source": [
    "%%R\n",
    "# install\n",
    "# install.packages('package-name')\n",
    "\n",
    "# already installed with conda\n",
    "#install.packages(\"foreign\")\n",
    "\n",
    "# new installs\n",
    "#install.packages(\"Rcmdr\", dependencies = TRUE, repos=\"http://cran.rstudio.com/\") # in conda?\n",
    "#install.packages(\"nortest\", repos=\"http://cran.rstudio.com/\")\n",
    "#install.packages(\"sas7bdat\", repos=\"http://cran.rstudio.com/\")\n",
    "#install.packages(\"Hmisc\", repos=\"http://cran.rstudio.com/\")\n",
    "#install.packages(\"pastecs\", repos=\"http://cran.rstudio.com/\")"
   ]
  },
  {
   "cell_type": "code",
   "execution_count": null,
   "metadata": {
    "collapsed": false,
    "scrolled": true
   },
   "outputs": [],
   "source": [
    "%%R\n",
    "# import\n",
    "# library('package-name')\n",
    "\n",
    "library(foreign)\n",
    "library(nortest)\n",
    "library(sas7bdat)\n",
    "library(Hmisc)\n",
    "library(pastecs)"
   ]
  },
  {
   "cell_type": "markdown",
   "metadata": {},
   "source": [
    "## Espace de travail"
   ]
  },
  {
   "cell_type": "code",
   "execution_count": 3,
   "metadata": {
    "collapsed": false
   },
   "outputs": [
    {
     "data": {
      "text/plain": [
       "'/home/inrs/EUR8217/labo'"
      ]
     },
     "execution_count": 3,
     "metadata": {},
     "output_type": "execute_result"
    }
   ],
   "source": [
    "# Jupyter : \"magic functions\" : integration with shell\n",
    "%pwd"
   ]
  },
  {
   "cell_type": "markdown",
   "metadata": {},
   "source": [
    "## Import fichier externe"
   ]
  },
  {
   "cell_type": "code",
   "execution_count": null,
   "metadata": {
    "collapsed": false
   },
   "outputs": [],
   "source": [
    "%%R\n",
    "# import excel : via txt tab separated\n",
    "fichierTexte <- read.table(\"data/labo2/SR_Data.txt\", header = TRUE)\n",
    "head(fichierTexte)"
   ]
  },
  {
   "cell_type": "code",
   "execution_count": null,
   "metadata": {
    "collapsed": false
   },
   "outputs": [],
   "source": [
    "# Python\n",
    "# import excel\n",
    "\n",
    "df = pd.read_excel('data/labo2/SR_Data.xls')\n",
    "df.head()"
   ]
  },
  {
   "cell_type": "code",
   "execution_count": null,
   "metadata": {
    "collapsed": false,
    "scrolled": true
   },
   "outputs": [],
   "source": [
    "%%R\n",
    "# import DBF (DBase)\n",
    "\n",
    "fichierDBF <- read.dbf(\"data/labo2/SR_Data.dbf\")\n",
    "head(fichierDBF)"
   ]
  },
  {
   "cell_type": "code",
   "execution_count": null,
   "metadata": {
    "collapsed": false
   },
   "outputs": [],
   "source": [
    "# Python\n",
    "# import DBF (DBase)\n",
    "\n",
    "dbf = Dbf5('data/labo2/SR_Data.dbf')\n",
    "df = dbf.to_dataframe()\n",
    "df.head()"
   ]
  },
  {
   "cell_type": "code",
   "execution_count": null,
   "metadata": {
    "collapsed": false
   },
   "outputs": [],
   "source": [
    "%%R\n",
    "# import SPSS\n",
    "\n",
    "fichierSPSS <- read.spss(\"data/labo2/Data_SPSS.sav\", to.data.frame=TRUE)\n",
    "head(fichierSPSS)"
   ]
  },
  {
   "cell_type": "code",
   "execution_count": null,
   "metadata": {
    "collapsed": true
   },
   "outputs": [],
   "source": [
    "# Python\n",
    "# import SPSS\n",
    "\n",
    "# savReaderWriter erreur lors de pip install"
   ]
  },
  {
   "cell_type": "code",
   "execution_count": null,
   "metadata": {
    "collapsed": false
   },
   "outputs": [],
   "source": [
    "%%R\n",
    "# import SAS\n",
    "\n",
    "fichierSAS <- read.sas7bdat(\"data/labo2/tableau1.sas7bdat\", debug=FALSE)\n",
    "head(fichierSAS)"
   ]
  },
  {
   "cell_type": "code",
   "execution_count": null,
   "metadata": {
    "collapsed": true
   },
   "outputs": [],
   "source": [
    "# Python\n",
    "# import SAS\n",
    "\n"
   ]
  },
  {
   "cell_type": "code",
   "execution_count": null,
   "metadata": {
    "collapsed": true
   },
   "outputs": [],
   "source": [
    "%%R\n",
    "# data visualisation via GUI\n",
    "#library(Rcmdr)"
   ]
  },
  {
   "cell_type": "markdown",
   "metadata": {},
   "source": [
    "## Structuration d'un tableau"
   ]
  },
  {
   "cell_type": "code",
   "execution_count": 17,
   "metadata": {
    "collapsed": false,
    "scrolled": false
   },
   "outputs": [
    {
     "data": {
      "text/plain": [
       " [1] \"POPTOT_FR\"  \"FAIBLEREV\"  \"MONOPCT\"    \"MENAGE1PCT\" \"IMMREC_PCT\"\n",
       " [6] \"TX_CHOM\"    \"NOECOLEPCT\" \"SCO_M9PCT\"  \"SCO_M13PCT\" \"PARTIELPCT\"\n",
       "[11] \"FAIBREVPCT\" \"INDICE_PAU\" \"Dist_Min\"   \"N_1000\"     \"Dist_Moy_3\"\n",
       "[16] \"Shape_Leng\" \"Shape_Area\"\n"
      ]
     },
     "metadata": {},
     "output_type": "display_data"
    }
   ],
   "source": [
    "%%R\n",
    "\n",
    "# show variable names\n",
    "names(fichierDBF)\n",
    "# indexes start at 1"
   ]
  },
  {
   "cell_type": "code",
   "execution_count": 18,
   "metadata": {
    "collapsed": false
   },
   "outputs": [
    {
     "data": {
      "text/plain": [
       " [1] \"POPTOT_FR\"  \"FAIBLEREV\"  \"MONOPCT\"    \"MENAGE1PCT\" \"IMMREC_PCT\"\n",
       " [6] \"TX_CHOM\"    \"NOECOLEPCT\" \"SCO_M9PCT\"  \"SCO_M13PCT\" \"PARTIELPCT\"\n",
       "[11] \"FAIBREVPCT\" \"INDICE_PAU\" \"Dist_Min\"   \"N_1000\"     \"Dist_Moy_3\"\n",
       "[16] \"Shape_Area\"\n"
      ]
     },
     "metadata": {},
     "output_type": "display_data"
    }
   ],
   "source": [
    "%%R\n",
    "\n",
    "# delete variable\n",
    "fichierDBF$Shape_Leng <- NULL\n",
    "names(fichierDBF)"
   ]
  },
  {
   "cell_type": "code",
   "execution_count": 19,
   "metadata": {
    "collapsed": false
   },
   "outputs": [
    {
     "data": {
      "text/plain": [
       " [1] \"POPTOT\"     \"FAIBLEREV\"  \"MONOPCT\"    \"MENAGE1PCT\" \"IMMREC_PCT\"\n",
       " [6] \"TX_CHOM\"    \"NOECOLEPCT\" \"SCO_M9PCT\"  \"SCO_M13PCT\" \"PARTIELPCT\"\n",
       "[11] \"FAIBREVPCT\" \"INDICE_PAU\" \"Dist_Min\"   \"N_1000\"     \"Dist_Moy_3\"\n",
       "[16] \"Shape_Area\"\n"
      ]
     },
     "metadata": {},
     "output_type": "display_data"
    }
   ],
   "source": [
    "%%R\n",
    "\n",
    "# rename variable\n",
    "names(fichierDBF)[1] <- \"POPTOT\"\n",
    "names(fichierDBF)"
   ]
  },
  {
   "cell_type": "code",
   "execution_count": null,
   "metadata": {
    "collapsed": true
   },
   "outputs": [],
   "source": [
    "%%R\n",
    "\n",
    "# "
   ]
  },
  {
   "cell_type": "markdown",
   "metadata": {},
   "source": [
    "## Variable centré-réduite"
   ]
  },
  {
   "cell_type": "markdown",
   "metadata": {},
   "source": [
    "## Fonctions statistiques"
   ]
  }
 ],
 "metadata": {
  "kernelspec": {
   "display_name": "Python 3",
   "language": "python",
   "name": "python3"
  },
  "language_info": {
   "codemirror_mode": {
    "name": "ipython",
    "version": 3
   },
   "file_extension": ".py",
   "mimetype": "text/x-python",
   "name": "python",
   "nbconvert_exporter": "python",
   "pygments_lexer": "ipython3",
   "version": "3.5.1"
  }
 },
 "nbformat": 4,
 "nbformat_minor": 0
}
