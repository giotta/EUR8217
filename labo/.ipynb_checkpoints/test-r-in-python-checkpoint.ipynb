{
 "cells": [
  {
   "cell_type": "markdown",
   "metadata": {},
   "source": [
    "# Jupyter, R et Python\n",
    "\n",
    "Exemple ci-dessous est le même que celui de test-r.ipynb **mais** le présent notebook a le kernel Python 3 (les *code cells* sont interprétées en Python par défaut.\n",
    "\n",
    "En suivant la procédure présentée dans le [README.md](../README.md), on arrive à utiliser R dans ce note book Python.\n",
    "\n",
    "Exemple ci-dessous provient de :\n",
    "* https://www.continuum.io/blog/developer/jupyter-and-conda-r\n",
    "\n",
    "Astuce de R in Python identifié par *deuxpi*, user du channel *#montrealpython* sur IRC *(irc.freenode.net)*."
   ]
  },
  {
   "cell_type": "markdown",
   "metadata": {},
   "source": [
    "## Pré-requis\n",
    "\n",
    "Avoir installé le module Python `rpy2`\n",
    "```\n",
    "$ pip install rpy2\n",
    "```"
   ]
  },
  {
   "cell_type": "markdown",
   "metadata": {},
   "source": [
    "## Charger l'extension ipython"
   ]
  },
  {
   "cell_type": "code",
   "execution_count": 1,
   "metadata": {
    "collapsed": true
   },
   "outputs": [],
   "source": [
    "%load_ext rpy2.ipython"
   ]
  },
  {
   "cell_type": "markdown",
   "metadata": {},
   "source": [
    "## Utiliser dans les code cells"
   ]
  },
  {
   "cell_type": "code",
   "execution_count": null,
   "metadata": {
    "collapsed": true
   },
   "outputs": [],
   "source": [
    "%%R\n"
   ]
  },
  {
   "cell_type": "markdown",
   "metadata": {},
   "source": [
    "## Utiliser dans le code Python (inline)"
   ]
  },
  {
   "cell_type": "code",
   "execution_count": null,
   "metadata": {
    "collapsed": true
   },
   "outputs": [],
   "source": [
    "variable = None # Python\n",
    "%R"
   ]
  }
 ],
 "metadata": {
  "kernelspec": {
   "display_name": "Python 3",
   "language": "python",
   "name": "python3"
  },
  "language_info": {
   "codemirror_mode": {
    "name": "ipython",
    "version": 3
   },
   "file_extension": ".py",
   "mimetype": "text/x-python",
   "name": "python",
   "nbconvert_exporter": "python",
   "pygments_lexer": "ipython3",
   "version": "3.5.1"
  }
 },
 "nbformat": 4,
 "nbformat_minor": 0
}
