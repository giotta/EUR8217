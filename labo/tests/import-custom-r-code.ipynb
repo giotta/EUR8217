{
 "cells": [
  {
   "cell_type": "markdown",
   "metadata": {},
   "source": [
    "# Importing custom R code in Jupyter"
   ]
  },
  {
   "cell_type": "markdown",
   "metadata": {},
   "source": [
    "## source\n",
    "\n",
    "http://stackoverflow.com/questions/1776014/importing-functions-into-current-namespace"
   ]
  },
  {
   "cell_type": "code",
   "execution_count": 3,
   "metadata": {
    "collapsed": false
   },
   "outputs": [],
   "source": [
    "source(\"test.R\")"
   ]
  },
  {
   "cell_type": "code",
   "execution_count": 6,
   "metadata": {
    "collapsed": false
   },
   "outputs": [
    {
     "data": {
      "text/html": [
       "<table>\n",
       "<thead><tr><th></th><th scope=col>POPTOT_FR</th><th scope=col>FAIBLEREV</th><th scope=col>MONOPCT</th><th scope=col>MENAGE1PCT</th><th scope=col>IMMREC_PCT</th><th scope=col>TX_CHOM</th><th scope=col>NOECOLEPCT</th><th scope=col>SCO_M9PCT</th><th scope=col>SCO_M13PCT</th><th scope=col>PARTIELPCT</th><th scope=col>FAIBREVPCT</th><th scope=col>INDICE_PAU</th><th scope=col>Dist_Min</th><th scope=col>N_1000</th><th scope=col>Dist_Moy_3</th><th scope=col>Shape_Leng</th><th scope=col>Shape_Area</th></tr></thead>\n",
       "<tbody>\n",
       "\t<tr><th scope=row>1</th><td>970</td><td>35</td><td>11.48</td><td>16.67</td><td>1.03</td><td>1.8</td><td>8</td><td>6.16</td><td>24.66</td><td>45.13</td><td>3.61</td><td>0.49681</td><td>6264.772</td><td>0</td><td>8835.786</td><td>20110.13</td><td>7483047</td></tr>\n",
       "\t<tr><th scope=row>2</th><td>9105</td><td>2965</td><td>21.74</td><td>24.22</td><td>5.43</td><td>10.36</td><td>30.42</td><td>9.64</td><td>34.44</td><td>41.68</td><td>32.56</td><td>1.49218</td><td>1458.956</td><td>0.179</td><td>3352.854</td><td>12854.56</td><td>2958949</td></tr>\n",
       "\t<tr><th scope=row>3</th><td>4190</td><td>435</td><td>13.93</td><td>26.59</td><td>3.1</td><td>4.55</td><td>22.69</td><td>3.76</td><td>28.84</td><td>40.94</td><td>10.38</td><td>0.69996</td><td>1094.887</td><td>0.372</td><td>1862.379</td><td>7010.869</td><td>1452463</td></tr>\n",
       "\t<tr><th scope=row>4</th><td>1300</td><td>335</td><td>22.95</td><td>60.36</td><td>0.77</td><td>8.89</td><td>68.75</td><td>7.23</td><td>36.6</td><td>33.33</td><td>25.77</td><td>1.15688</td><td>1155.835</td><td>0.348</td><td>1826.47</td><td>6303.374</td><td>683634.5</td></tr>\n",
       "\t<tr><th scope=row>5</th><td>6270</td><td>1010</td><td>15.47</td><td>21.96</td><td>3.43</td><td>7.52</td><td>29.31</td><td>4.59</td><td>33.22</td><td>45.08</td><td>16.11</td><td>0.89715</td><td>1097.945</td><td>0.59</td><td>1652.041</td><td>5814.048</td><td>1764655</td></tr>\n",
       "\t<tr><th scope=row>6</th><td>4340</td><td>935</td><td>16.88</td><td>23</td><td>3.11</td><td>4.61</td><td>25</td><td>6.61</td><td>34.03</td><td>47.6</td><td>21.54</td><td>0.97111</td><td>705.672</td><td>1.075</td><td>1343.423</td><td>8928.198</td><td>1105847</td></tr>\n",
       "</tbody>\n",
       "</table>\n"
      ],
      "text/latex": [
       "\\begin{tabular}{r|lllllllllllllllll}\n",
       "  & POPTOT_FR & FAIBLEREV & MONOPCT & MENAGE1PCT & IMMREC_PCT & TX_CHOM & NOECOLEPCT & SCO_M9PCT & SCO_M13PCT & PARTIELPCT & FAIBREVPCT & INDICE_PAU & Dist_Min & N_1000 & Dist_Moy_3 & Shape_Leng & Shape_Area\\\\\n",
       "\\hline\n",
       "\t1 & 970 & 35 & 11.48 & 16.67 & 1.03 & 1.8 & 8 & 6.16 & 24.66 & 45.13 & 3.61 & 0.49681 & 6264.772 & 0 & 8835.786 & 20110.13 & 7483047\\\\\n",
       "\t2 & 9105 & 2965 & 21.74 & 24.22 & 5.43 & 10.36 & 30.42 & 9.64 & 34.44 & 41.68 & 32.56 & 1.49218 & 1458.956 & 0.179 & 3352.854 & 12854.56 & 2958949\\\\\n",
       "\t3 & 4190 & 435 & 13.93 & 26.59 & 3.1 & 4.55 & 22.69 & 3.76 & 28.84 & 40.94 & 10.38 & 0.69996 & 1094.887 & 0.372 & 1862.379 & 7010.869 & 1452463\\\\\n",
       "\t4 & 1300 & 335 & 22.95 & 60.36 & 0.77 & 8.89 & 68.75 & 7.23 & 36.6 & 33.33 & 25.77 & 1.15688 & 1155.835 & 0.348 & 1826.47 & 6303.374 & 683634.5\\\\\n",
       "\t5 & 6270 & 1010 & 15.47 & 21.96 & 3.43 & 7.52 & 29.31 & 4.59 & 33.22 & 45.08 & 16.11 & 0.89715 & 1097.945 & 0.59 & 1652.041 & 5814.048 & 1764655\\\\\n",
       "\t6 & 4340 & 935 & 16.88 & 23 & 3.11 & 4.61 & 25 & 6.61 & 34.03 & 47.6 & 21.54 & 0.97111 & 705.672 & 1.075 & 1343.423 & 8928.198 & 1105847\\\\\n",
       "\\end{tabular}\n"
      ],
      "text/plain": [
       "  POPTOT_FR FAIBLEREV MONOPCT MENAGE1PCT IMMREC_PCT TX_CHOM NOECOLEPCT\n",
       "1       970        35   11.48      16.67       1.03    1.80       8.00\n",
       "2      9105      2965   21.74      24.22       5.43   10.36      30.42\n",
       "3      4190       435   13.93      26.59       3.10    4.55      22.69\n",
       "4      1300       335   22.95      60.36       0.77    8.89      68.75\n",
       "5      6270      1010   15.47      21.96       3.43    7.52      29.31\n",
       "6      4340       935   16.88      23.00       3.11    4.61      25.00\n",
       "  SCO_M9PCT SCO_M13PCT PARTIELPCT FAIBREVPCT INDICE_PAU Dist_Min N_1000\n",
       "1      6.16      24.66      45.13       3.61    0.49681 6264.772  0.000\n",
       "2      9.64      34.44      41.68      32.56    1.49218 1458.956  0.179\n",
       "3      3.76      28.84      40.94      10.38    0.69996 1094.887  0.372\n",
       "4      7.23      36.60      33.33      25.77    1.15688 1155.835  0.348\n",
       "5      4.59      33.22      45.08      16.11    0.89715 1097.945  0.590\n",
       "6      6.61      34.03      47.60      21.54    0.97111  705.672  1.075\n",
       "  Dist_Moy_3 Shape_Leng Shape_Area\n",
       "1   8835.786  20110.133  7483046.6\n",
       "2   3352.854  12854.564  2958949.3\n",
       "3   1862.379   7010.869  1452463.0\n",
       "4   1826.470   6303.374   683634.5\n",
       "5   1652.041   5814.048  1764655.0\n",
       "6   1343.423   8928.198  1105846.6"
      ]
     },
     "execution_count": 6,
     "metadata": {},
     "output_type": "execute_result"
    }
   ],
   "source": [
    "head(fichierDBF)"
   ]
  }
 ],
 "metadata": {
  "kernelspec": {
   "display_name": "R",
   "language": "R",
   "name": "ir"
  },
  "language_info": {
   "codemirror_mode": "r",
   "file_extension": ".r",
   "mimetype": "text/x-r-source",
   "name": "R",
   "pygments_lexer": "r",
   "version": "3.2.2"
  }
 },
 "nbformat": 4,
 "nbformat_minor": 0
}
