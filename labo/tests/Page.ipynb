{
 "cells": [
  {
   "cell_type": "markdown",
   "metadata": {},
   "source": [
    "# Test volume par page\n",
    "\n",
    "*10 paragraphes, 855 mots, 5705 caractères*\n",
    "\n",
    "Lorem ipsum dolor sit amet, consectetur adipiscing elit. Nunc convallis et dui sit amet faucibus. Praesent viverra scelerisque rutrum. Curabitur malesuada mauris ut commodo sodales. Maecenas molestie nulla augue, in pretium arcu pulvinar euismod. Sed finibus magna ante, non consequat ex convallis commodo. Proin justo leo, cursus id leo sit amet, aliquet sodales turpis. Integer facilisis commodo risus, ut molestie tellus fermentum ut. Sed nec est ipsum. Curabitur tempus metus nulla, eget sodales ligula dapibus sit amet.\n",
    "\n",
    "Etiam a lacinia nisl, vel consequat erat. Nulla facilisi. Etiam augue nunc, interdum maximus consequat a, suscipit vel nisl. In leo ligula, dignissim in metus vel, vestibulum consequat ex. Integer vestibulum massa quis enim lacinia aliquet. Nullam id lacus dictum turpis convallis posuere nec in quam. Nunc suscipit, augue sed aliquet egestas, dui dui porta sapien, sed gravida quam leo in lacus. Vivamus tempus sem ut arcu mattis semper. Donec id vestibulum lacus. Nulla mollis, elit posuere efficitur rutrum, enim lectus rhoncus tortor, vitae suscipit lorem nisi vel lacus. Etiam sapien arcu, finibus quis magna nec, dictum ultricies orci. Etiam ligula mauris, pharetra tincidunt enim non, aliquam pretium neque. Aenean facilisis, neque vel ultricies venenatis, nunc ex sagittis lacus, nec sollicitudin nulla est vel magna. Fusce eu massa quis lectus vestibulum dignissim non id magna.\n",
    "\n",
    "Vivamus at dui a quam commodo pellentesque. Praesent posuere diam egestas, facilisis tellus non, gravida metus. Ut ac lectus ut lorem congue finibus eu nec libero. Suspendisse ornare egestas blandit. Mauris nisl velit, convallis sodales nisl ut, posuere auctor mi. Pellentesque in semper mi. Integer magna neque, euismod sed aliquet condimentum, euismod et elit. Vestibulum nec justo nec augue iaculis efficitur. Curabitur sit amet tempor sapien. Etiam eu eros semper, aliquam purus eget, volutpat magna. Integer sit amet lacus leo. Nulla tincidunt semper augue nec tristique. Nam et diam vitae lacus suscipit convallis sit amet a sapien.\n",
    "\n",
    "Donec porttitor sit amet libero quis lobortis. In massa libero, hendrerit vitae quam nec, laoreet accumsan mauris. Curabitur gravida sit amet risus eget bibendum. Class aptent taciti sociosqu ad litora torquent per conubia nostra, per inceptos himenaeos. Vivamus scelerisque, ex quis sagittis scelerisque, urna felis pulvinar lorem, non rhoncus nibh eros eu enim. Duis tempus, nisl eget venenatis sollicitudin, neque urna iaculis nulla, nec malesuada magna lorem non purus. Quisque ultrices dui a placerat faucibus. Praesent faucibus vestibulum est, a fringilla lorem mollis vel. Ut ultrices purus quam, id vehicula enim fringilla quis.\n",
    "\n",
    "Aliquam ullamcorper ipsum iaculis dapibus aliquet. Nam vitae tortor at ante molestie eleifend. Suspendisse rhoncus mi feugiat, tempor libero vitae, sollicitudin urna. Nunc velit neque, dictum at pretium et, maximus vel odio. Praesent fermentum, nulla non luctus vestibulum, lacus libero feugiat urna, non mollis elit neque id sapien. Suspendisse consequat, orci at dapibus molestie, lorem mi molestie ligula, eu maximus odio arcu ac augue. Vivamus convallis felis sit amet tortor tristique, eu mattis neque fringilla. Nam aliquet et sem nec vestibulum. Sed eget venenatis velit. Aliquam posuere, neque ac venenatis luctus, est arcu bibendum tellus, ut hendrerit augue purus et lacus.\n",
    "\n",
    "Nulla consectetur nulla sit amet commodo consectetur. Maecenas laoreet erat eget nisl maximus varius. Sed luctus neque consequat sapien pellentesque, eu lobortis felis pulvinar. Sed lorem leo, maximus eget nibh id, sodales faucibus massa. Lorem ipsum dolor sit amet, consectetur adipiscing elit. Fusce bibendum volutpat magna. Donec tristique orci quam, non faucibus libero fermentum at. Pellentesque nibh neque, convallis sit amet nulla in, hendrerit ultrices eros. Nullam eget porta velit. Aliquam ullamcorper purus vel ligula condimentum consequat. Donec venenatis dignissim aliquet. Integer ut ex mi. Curabitur tristique, **END PAGE**"
   ]
  },
  {
   "cell_type": "markdown",
   "metadata": {},
   "source": [
    "mauris ac euismod rutrum, metus metus malesuada dui, id eleifend felis ante nec erat. Pellentesque ut facilisis libero.\n",
    "\n",
    "Vestibulum ante ipsum primis in faucibus orci luctus et ultrices posuere cubilia Curae; Ut tempor semper condimentum. Sed porta et nisi id gravida. Sed vel metus eu libero lacinia mattis nec a erat. Sed in ligula sed leo imperdiet hendrerit vitae accumsan sem. Sed condimentum eros ut enim rhoncus sollicitudin. Sed quam enim, fermentum eu vehicula vel, dapibus sed nulla. Nullam sit amet mollis arcu.\n",
    "\n",
    "Suspendisse iaculis laoreet nisi vel auctor. In elementum nunc a velit posuere, in interdum dolor consectetur. Aliquam sed faucibus lectus, et accumsan ante. Etiam vel orci pulvinar, sollicitudin sem eget, tristique ex. Donec porta sed erat nec blandit. Maecenas facilisis porttitor magna in porta. Sed sit amet lectus dui. Suspendisse id lacinia est.\n",
    "\n",
    "Duis vestibulum convallis lorem a scelerisque. Fusce auctor tortor eu consequat varius. In porta dui vitae dolor consequat tincidunt. Nam eget neque sit amet ex porta ullamcorper sit amet sit amet ligula. Maecenas efficitur molestie magna, ut consectetur nisl tincidunt id. Proin fermentum tristique purus, at vehicula quam sagittis sed. Ut eu mauris ex. Duis non felis sit amet urna pretium commodo at vitae leo.\n",
    "\n",
    "In hac habitasse platea dictumst. Phasellus eget lacus id mauris pretium convallis vel non purus. Etiam lectus ante, molestie non efficitur sed, blandit id quam. Aenean vel turpis finibus, hendrerit nulla vel, tempus orci. Morbi sed mi non massa tincidunt dapibus. Sed ut nunc non ante porta suscipit condimentum sit amet neque. Aenean ultricies eleifend risus vel tristique. Maecenas porta augue imperdiet finibus condimentum. "
   ]
  }
 ],
 "metadata": {
  "kernelspec": {
   "display_name": "Python 3",
   "language": "python",
   "name": "python3"
  },
  "language_info": {
   "codemirror_mode": {
    "name": "ipython",
    "version": 3
   },
   "file_extension": ".py",
   "mimetype": "text/x-python",
   "name": "python",
   "nbconvert_exporter": "python",
   "pygments_lexer": "ipython3",
   "version": "3.5.1"
  }
 },
 "nbformat": 4,
 "nbformat_minor": 0
}
